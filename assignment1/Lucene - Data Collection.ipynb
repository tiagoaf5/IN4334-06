{
 "cells": [
  {
   "cell_type": "markdown",
   "metadata": {},
   "source": [
    "# Lucena - Data Collection"
   ]
  },
  {
   "cell_type": "markdown",
   "metadata": {},
   "source": [
    "## Finding Realease with most bugs"
   ]
  },
  {
   "cell_type": "markdown",
   "metadata": {},
   "source": [
    "Read issue files."
   ]
  },
  {
   "cell_type": "code",
   "execution_count": 138,
   "metadata": {
    "collapsed": false,
    "scrolled": true
   },
   "outputs": [],
   "source": [
    "import json\n",
    "from pprint import pprint\n",
    "from os import listdir\n",
    "from os.path import isfile, join\n",
    "import operator\n",
    "\n",
    "mypath = \"issue_LUCENE\"\n",
    "\n",
    "onlyfiles = [ f for f in listdir(mypath) if isfile(join(mypath,f)) and f.endswith(\".json\") ]\n",
    "version_bugs = {}\n",
    "bug_fixed_dates = {}\n",
    "\n",
    "for f in onlyfiles:\n",
    "    with open(join(mypath,f)) as data_file:   \n",
    "        data = json.load(data_file)\n",
    "        if (data[\"fields\"][\"issuetype\"][\"name\"] == \"Bug\" and \n",
    "            data[\"fields\"][\"status\"][\"name\"] == \"Closed\" and \n",
    "            data[\"fields\"][\"resolution\"][\"name\"] == \"Fixed\"):\n",
    "            \n",
    "            bug_fixed_dates[data[\"key\"]] = data[\"fields\"][\"resolutiondate\"]\n",
    "            \n",
    "            versions = data[\"fields\"][\"versions\"]\n",
    "            for v in versions:\n",
    "                if version_bugs.has_key(v[\"name\"]):\n",
    "                    version_bugs[v[\"name\"]].append(data[\"key\"])\n",
    "                else:\n",
    "                    version_bugs[v[\"name\"]] = [data[\"key\"]]"
   ]
  },
  {
   "cell_type": "markdown",
   "metadata": {},
   "source": [
    "From the dictionary with the bugs associated to each release we extract the buggiest version and its bugs."
   ]
  },
  {
   "cell_type": "code",
   "execution_count": 139,
   "metadata": {
    "collapsed": false,
    "scrolled": false
   },
   "outputs": [
    {
     "name": "stdout",
     "output_type": "stream",
     "text": [
      "Version with most closed bugs: 4.0-ALPHA with 179 bugs.\n"
     ]
    }
   ],
   "source": [
    "most_bugs = 0\n",
    "buggy_version = \"\"\n",
    "\n",
    "for k,v in version_bugs.iteritems():\n",
    "    if len(v) > most_bugs:\n",
    "        most_bugs = len(v)\n",
    "        buggy_version = k\n",
    "        \n",
    "bugs = {}\n",
    "\n",
    "for b in version_bugs[buggy_version]:\n",
    "    bugs[b] = []\n",
    "\n",
    "print \"Version with most closed bugs:\", buggy_version , \"with\", len (version_bugs[buggy_version]), \"bugs.\""
   ]
  },
  {
   "cell_type": "markdown",
   "metadata": {},
   "source": [
    "Find the date of the most recent bug fix that afefcts the chosen version."
   ]
  },
  {
   "cell_type": "code",
   "execution_count": 140,
   "metadata": {
    "collapsed": false,
    "scrolled": true
   },
   "outputs": [
    {
     "name": "stdout",
     "output_type": "stream",
     "text": [
      "The day of the most recent bug fix is 2014-01-24\n"
     ]
    }
   ],
   "source": [
    "import datetime\n",
    "\n",
    "latest_date = \"1999\"   # date for the most recent bug fix\n",
    "\n",
    "for b in bugs:\n",
    "    latest_date = (bug_fixed_dates[b] if bug_fixed_dates[b] > latest_date else latest_date)\n",
    "\n",
    "latest_date = latest_date[:10]\n",
    "\n",
    "print \"The day of the most recent bug fix is\", latest_date"
   ]
  },
  {
   "cell_type": "markdown",
   "metadata": {},
   "source": [
    "For some reason shortlog was not working. #git shortlog -s -n"
   ]
  },
  {
   "cell_type": "code",
   "execution_count": 141,
   "metadata": {
    "collapsed": false,
    "scrolled": true
   },
   "outputs": [
    {
     "name": "stdout",
     "output_type": "stream",
     "text": [
      "Reading repository...\n",
      "...finished reading\n"
     ]
    }
   ],
   "source": [
    "import sh\n",
    "import re\n",
    "import os\n",
    "\n",
    "if not os.path.exists(\"lucene-solr\"):\n",
    "    sh.git.clone(\"https://github.com/apache/lucene-solr.git\")\n",
    "    \n",
    "git = sh.git.bake(_cwd='lucene-solr')\n",
    "\n",
    "git.checkout(\"tags/lucene_solr_4_0_0_ALPHA\")\n",
    "\n",
    "\n",
    "files = filter(None,git(\"ls-files\").split(\"\\n\"))\n",
    "\n",
    "print \"Reading repository...\"\n",
    "\n",
    "#git shortlog -s -n\n",
    "\n",
    "table = {}\n",
    "#count = 0 #TODO remove\n",
    "\n",
    "for f in files:\n",
    "    contributors_data = filter(None, sh.uniq(sh.sort(git.log(\"--format=format:%an\", f)), \"-c\").split(\"\\n\"))\n",
    "    contributors = []\n",
    "    total = 0\n",
    "    max_ownership = 0\n",
    "    minor = 0\n",
    "    major = 0\n",
    "    \n",
    "    for a in contributors_data:\n",
    "        num = int(re.search(\"[0-9]+\", a).group(0))\n",
    "        name = re.search(\"([A-z]+\\s*)+\", a).group(0)\n",
    "        total += num\n",
    "        max_ownership = num if num > max_ownership else max_ownership\n",
    "        contributors.append((name,num))\n",
    "    \n",
    "    for a in contributors:\n",
    "\n",
    "        if a[1] * 1.0 / total >= 0.05:\n",
    "            major += 1\n",
    "        else:\n",
    "            minor += 1\n",
    "   \n",
    "    #count += 1 #TODO delete\n",
    "    #if count >= 100: #TODO delete\n",
    "    #    break #TODO delete\n",
    "        \n",
    "    table[f]= {\"minor\": minor, \"major\": major, \"total\": minor + major, \"ownership\": (float(\"{0:.2f}\".format(max_ownership * 1.0 / total * 100))), \"num_of_bugs\":0}\n",
    "\n",
    "print \"...finished reading\"\n"
   ]
  },
  {
   "cell_type": "markdown",
   "metadata": {
    "collapsed": true
   },
   "source": [
    "## Finding commits that fix bugs of the chosen release"
   ]
  },
  {
   "cell_type": "code",
   "execution_count": 142,
   "metadata": {
    "collapsed": false,
    "scrolled": false
   },
   "outputs": [
    {
     "name": "stdout",
     "output_type": "stream",
     "text": [
      "Last bug fix date detected: ba560c7484c1df260ae78b414749fa81af998231\n",
      "We have 7342 commits to analyse.\n",
      "Identified fixes for 32 out of 179.\n"
     ]
    }
   ],
   "source": [
    "#git rev-list --topo-order HEAD..towards | tail -1\n",
    "#git rev-parse trunk\n",
    "\n",
    "#last_commit_hash = git(\"rev-parse\", \"trunk\")\n",
    "#print last_commit_hash\n",
    "\n",
    "shaLatest = (git(\"rev-list\",\"-n 1\",\"--before=\\\"\" + latest_date + \"23:59\\\"\",\"trunk\")).stdout[:-1]\n",
    "print \"Last bug fix date detected:\", shaLatest\n",
    "\n",
    "commit_list = filter(None, git(\"rev-list\", \"--topo-order\", \"HEAD..\" + shaLatest).split(\"\\n\"))\n",
    "print \"We have\", len(commit_list), \"commits to analyse.\"\n",
    "\n",
    "# git log --format=%B -n 1 7bfa4fd6505e86c7481526bca7b157055a7b4ead\n",
    "\n",
    "for commit in commit_list:\n",
    "    message = str(git.log(\"--format=%B\", \"-n 1\", commit))\n",
    "    match = re.search(\"LUCENE-[0-9]+\", message)\n",
    "\n",
    "    if match:\n",
    "        key = match.group(0).strip()\n",
    "        \n",
    "        if key in bugs: \n",
    "            #print key, \" \",\n",
    "            files_changed = filter(None, git(\"diff-tree\", \"--no-commit-id\", \"--name-only\", \"-r\", commit).split(\"\\n\"))\n",
    "            bugs[key] = files_changed\n",
    "   \n",
    "print \"Identified fixes for\", len ({k for (k,v) in bugs.iteritems() if len(v) > 0}) ,\"out of\", str(len(bugs)) + \".\""
   ]
  },
  {
   "cell_type": "markdown",
   "metadata": {},
   "source": [
    "## Assign number of bugs to each file"
   ]
  },
  {
   "cell_type": "markdown",
   "metadata": {},
   "source": [
    "Count number of bugs in each file by checking the files modified in the correction of each bug."
   ]
  },
  {
   "cell_type": "code",
   "execution_count": 143,
   "metadata": {
    "collapsed": false,
    "scrolled": true
   },
   "outputs": [],
   "source": [
    "for key, value in bugs.iteritems():\n",
    "    if len(value) > 0:\n",
    "        for file in value:\n",
    "            if file in table:\n",
    "                table[file][\"num_of_bugs\"] += 1"
   ]
  },
  {
   "cell_type": "markdown",
   "metadata": {},
   "source": [
    "## Write CSV"
   ]
  },
  {
   "cell_type": "code",
   "execution_count": 144,
   "metadata": {
    "collapsed": false,
    "scrolled": true
   },
   "outputs": [
    {
     "name": "stdout",
     "output_type": "stream",
     "text": [
      "CSV file saved as data.csv\n"
     ]
    }
   ],
   "source": [
    "f = open(\"data.csv\", \"w\")\n",
    "f.write(\"file_name, minor, major, total, ownership, num_of_bugs\\n\")\n",
    "\n",
    "for k,v in table.iteritems():\n",
    "    f.write(k + \",\" + str(v[\"minor\"]) + \", \" + str(v[\"major\"]) + \", \" + str(v[\"total\"]) + \", \" + str(v[\"ownership\"]) + \"%, \" + str(v[\"num_of_bugs\"]) +\"\\n\")\n",
    "\n",
    "f.close()\n",
    "\n",
    "print \"CSV file saved as data.csv\""
   ]
  }
 ],
 "metadata": {
  "kernelspec": {
   "display_name": "Python 2",
   "language": "python",
   "name": "python2"
  }
 },
 "nbformat": 4,
 "nbformat_minor": 0
}
