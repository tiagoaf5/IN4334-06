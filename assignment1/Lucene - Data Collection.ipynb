{
 "cells": [
  {
   "cell_type": "markdown",
   "metadata": {},
   "source": [
    "# Lucena - Data Collection"
   ]
  },
  {
   "cell_type": "markdown",
   "metadata": {},
   "source": [
    "## Finding Realease with most bugs"
   ]
  },
  {
   "cell_type": "code",
   "execution_count": 50,
   "metadata": {
    "collapsed": false
   },
   "outputs": [
    {
     "name": "stdout",
     "output_type": "stream",
     "text": [
      "Version with most closed bugs: 4.0-ALPHA with 179 bugs.\n"
     ]
    }
   ],
   "source": [
    "import json\n",
    "from pprint import pprint\n",
    "from os import listdir\n",
    "from os.path import isfile, join\n",
    "import operator\n",
    "\n",
    "mypath = \"issue_LUCENE\"\n",
    "\n",
    "onlyfiles = [ f for f in listdir(mypath) if isfile(join(mypath,f)) and f.endswith(\".json\") ]\n",
    "version_count = {}\n",
    "\n",
    "for f in onlyfiles:\n",
    "    with open(join(mypath,f)) as data_file:   \n",
    "        data = json.load(data_file)\n",
    "        if data[\"fields\"][\"issuetype\"][\"name\"] == \"Bug\" and data[\"fields\"][\"status\"][\"name\"] == \"Closed\" and data[\"fields\"][\"resolution\"][\"name\"] == \"Fixed\":\n",
    "            versions = data[\"fields\"][\"versions\"]\n",
    "            for v in versions:\n",
    "                if version_count.has_key(v[\"name\"]):\n",
    "                    version_count[v[\"name\"]] += 1\n",
    "                else:\n",
    "                    version_count[v[\"name\"]] = 1\n",
    "\n",
    "buggy_version = max(version_count.iteritems(), key = operator.itemgetter(1))[0]\n",
    "print \"Version with most closed bugs:\", buggy_version , \"with\", version_count[buggy_version], \"bugs.\"\n",
    "\n",
    "        \n"
   ]
  },
  {
   "cell_type": "markdown",
   "metadata": {},
   "source": [
    "For some reason shortlog was not working. #git shortlog -s -n"
   ]
  },
  {
   "cell_type": "code",
   "execution_count": 14,
   "metadata": {
    "collapsed": false,
    "scrolled": false
   },
   "outputs": [
    {
     "name": "stdout",
     "output_type": "stream",
     "text": [
      "5585\n",
      "7\n",
      "{'bug_count': 0, 'major': 2, 'total': 2, 'ownership': 0, 'minor': 0}\n",
      "2\n",
      "{'bug_count': 0, 'major': 2, 'total': 2, 'ownership': 0, 'minor': 0}\n",
      "4\n",
      "{'bug_count': 0, 'major': 3, 'total': 3, 'ownership': 0, 'minor': 0}\n",
      "49\n",
      "{'bug_count': 0, 'major': 6, 'total': 10, 'ownership': 0, 'minor': 4}\n",
      "1\n",
      "{'bug_count': 0, 'major': 1, 'total': 1, 'ownership': 100, 'minor': 0}\n",
      "102\n",
      "{'bug_count': 0, 'major': 5, 'total': 17, 'ownership': 0, 'minor': 12}\n",
      "1\n",
      "{'bug_count': 0, 'major': 1, 'total': 1, 'ownership': 100, 'minor': 0}\n",
      "1\n",
      "{'bug_count': 0, 'major': 1, 'total': 1, 'ownership': 100, 'minor': 0}\n",
      "1\n",
      "{'bug_count': 0, 'major': 1, 'total': 1, 'ownership': 100, 'minor': 0}\n",
      "4\n",
      "{'bug_count': 0, 'major': 2, 'total': 2, 'ownership': 0, 'minor': 0}\n",
      "28\n",
      "{'bug_count': 0, 'major': 2, 'total': 5, 'ownership': 0, 'minor': 3}\n",
      "14\n",
      "{'bug_count': 0, 'major': 2, 'total': 2, 'ownership': 0, 'minor': 0}\n",
      "1\n",
      "{'bug_count': 0, 'major': 1, 'total': 1, 'ownership': 100, 'minor': 0}\n",
      "1\n",
      "{'bug_count': 0, 'major': 1, 'total': 1, 'ownership': 100, 'minor': 0}\n",
      "4\n",
      "{'bug_count': 0, 'major': 3, 'total': 3, 'ownership': 0, 'minor': 0}\n",
      "1\n",
      "{'bug_count': 0, 'major': 1, 'total': 1, 'ownership': 100, 'minor': 0}\n",
      "3\n",
      "{'bug_count': 0, 'major': 2, 'total': 2, 'ownership': 0, 'minor': 0}\n",
      "6\n",
      "{'bug_count': 0, 'major': 4, 'total': 4, 'ownership': 0, 'minor': 0}\n"
     ]
    },
    {
     "ename": "KeyboardInterrupt",
     "evalue": "",
     "output_type": "error",
     "traceback": [
      "\u001b[0;31m---------------------------------------------------------------------------\u001b[0m",
      "\u001b[0;31mKeyboardInterrupt\u001b[0m                         Traceback (most recent call last)",
      "\u001b[0;32m<ipython-input-14-b65c6e479712>\u001b[0m in \u001b[0;36m<module>\u001b[0;34m()\u001b[0m\n\u001b[1;32m     18\u001b[0m \u001b[0;34m\u001b[0m\u001b[0m\n\u001b[1;32m     19\u001b[0m \u001b[0;32mfor\u001b[0m \u001b[0mf\u001b[0m \u001b[0;32min\u001b[0m \u001b[0mfiles\u001b[0m\u001b[0;34m:\u001b[0m\u001b[0;34m\u001b[0m\u001b[0m\n\u001b[0;32m---> 20\u001b[0;31m     \u001b[0mcontributors_data\u001b[0m \u001b[0;34m=\u001b[0m \u001b[0mfilter\u001b[0m\u001b[0;34m(\u001b[0m\u001b[0mNone\u001b[0m\u001b[0;34m,\u001b[0m \u001b[0msh\u001b[0m\u001b[0;34m.\u001b[0m\u001b[0muniq\u001b[0m\u001b[0;34m(\u001b[0m\u001b[0msh\u001b[0m\u001b[0;34m.\u001b[0m\u001b[0msort\u001b[0m\u001b[0;34m(\u001b[0m\u001b[0mgit\u001b[0m\u001b[0;34m.\u001b[0m\u001b[0mlog\u001b[0m\u001b[0;34m(\u001b[0m\u001b[0;34m\"--format=format:%an\"\u001b[0m\u001b[0;34m,\u001b[0m \u001b[0mf\u001b[0m\u001b[0;34m)\u001b[0m\u001b[0;34m)\u001b[0m\u001b[0;34m,\u001b[0m \u001b[0;34m\"-c\"\u001b[0m\u001b[0;34m)\u001b[0m\u001b[0;34m.\u001b[0m\u001b[0msplit\u001b[0m\u001b[0;34m(\u001b[0m\u001b[0;34m\"\\n\"\u001b[0m\u001b[0;34m)\u001b[0m\u001b[0;34m)\u001b[0m\u001b[0;34m\u001b[0m\u001b[0m\n\u001b[0m\u001b[1;32m     21\u001b[0m     \u001b[0mcontributors\u001b[0m \u001b[0;34m=\u001b[0m \u001b[0;34m[\u001b[0m\u001b[0;34m]\u001b[0m\u001b[0;34m\u001b[0m\u001b[0m\n\u001b[1;32m     22\u001b[0m     \u001b[0mtotal\u001b[0m \u001b[0;34m=\u001b[0m \u001b[0;36m0\u001b[0m\u001b[0;34m\u001b[0m\u001b[0m\n",
      "\u001b[0;32m/usr/local/lib/python2.7/site-packages/sh.pyc\u001b[0m in \u001b[0;36m__call__\u001b[0;34m(self, *args, **kwargs)\u001b[0m\n\u001b[1;32m   1019\u001b[0m \u001b[0;34m\u001b[0m\u001b[0m\n\u001b[1;32m   1020\u001b[0m \u001b[0;34m\u001b[0m\u001b[0m\n\u001b[0;32m-> 1021\u001b[0;31m         \u001b[0;32mreturn\u001b[0m \u001b[0mRunningCommand\u001b[0m\u001b[0;34m(\u001b[0m\u001b[0mcmd\u001b[0m\u001b[0;34m,\u001b[0m \u001b[0mcall_args\u001b[0m\u001b[0;34m,\u001b[0m \u001b[0mstdin\u001b[0m\u001b[0;34m,\u001b[0m \u001b[0mstdout\u001b[0m\u001b[0;34m,\u001b[0m \u001b[0mstderr\u001b[0m\u001b[0;34m)\u001b[0m\u001b[0;34m\u001b[0m\u001b[0m\n\u001b[0m\u001b[1;32m   1022\u001b[0m \u001b[0;34m\u001b[0m\u001b[0m\n\u001b[1;32m   1023\u001b[0m \u001b[0;34m\u001b[0m\u001b[0m\n",
      "\u001b[0;32m/usr/local/lib/python2.7/site-packages/sh.pyc\u001b[0m in \u001b[0;36m__init__\u001b[0;34m(self, cmd, call_args, stdin, stdout, stderr)\u001b[0m\n\u001b[1;32m    484\u001b[0m \u001b[0;34m\u001b[0m\u001b[0m\n\u001b[1;32m    485\u001b[0m             \u001b[0;32mif\u001b[0m \u001b[0mshould_wait\u001b[0m\u001b[0;34m:\u001b[0m\u001b[0;34m\u001b[0m\u001b[0m\n\u001b[0;32m--> 486\u001b[0;31m                 \u001b[0mself\u001b[0m\u001b[0;34m.\u001b[0m\u001b[0mwait\u001b[0m\u001b[0;34m(\u001b[0m\u001b[0;34m)\u001b[0m\u001b[0;34m\u001b[0m\u001b[0m\n\u001b[0m\u001b[1;32m    487\u001b[0m \u001b[0;34m\u001b[0m\u001b[0m\n\u001b[1;32m    488\u001b[0m \u001b[0;34m\u001b[0m\u001b[0m\n",
      "\u001b[0;32m/usr/local/lib/python2.7/site-packages/sh.pyc\u001b[0m in \u001b[0;36mwait\u001b[0;34m(self)\u001b[0m\n\u001b[1;32m    491\u001b[0m             \u001b[0mself\u001b[0m\u001b[0;34m.\u001b[0m\u001b[0m_process_completed\u001b[0m \u001b[0;34m=\u001b[0m \u001b[0mTrue\u001b[0m\u001b[0;34m\u001b[0m\u001b[0m\n\u001b[1;32m    492\u001b[0m \u001b[0;34m\u001b[0m\u001b[0m\n\u001b[0;32m--> 493\u001b[0;31m             \u001b[0mexit_code\u001b[0m \u001b[0;34m=\u001b[0m \u001b[0mself\u001b[0m\u001b[0;34m.\u001b[0m\u001b[0mprocess\u001b[0m\u001b[0;34m.\u001b[0m\u001b[0mwait\u001b[0m\u001b[0;34m(\u001b[0m\u001b[0;34m)\u001b[0m\u001b[0;34m\u001b[0m\u001b[0m\n\u001b[0m\u001b[1;32m    494\u001b[0m             \u001b[0;32mif\u001b[0m \u001b[0mself\u001b[0m\u001b[0;34m.\u001b[0m\u001b[0mprocess\u001b[0m\u001b[0;34m.\u001b[0m\u001b[0mtimed_out\u001b[0m\u001b[0;34m:\u001b[0m\u001b[0;34m\u001b[0m\u001b[0m\n\u001b[1;32m    495\u001b[0m                 \u001b[0;31m# if we timed out, our exit code represents a signal, which is\u001b[0m\u001b[0;34m\u001b[0m\u001b[0;34m\u001b[0m\u001b[0m\n",
      "\u001b[0;32m/usr/local/lib/python2.7/site-packages/sh.pyc\u001b[0m in \u001b[0;36mwait\u001b[0;34m(self)\u001b[0m\n\u001b[1;32m   1599\u001b[0m             \u001b[0;32mif\u001b[0m \u001b[0mself\u001b[0m\u001b[0;34m.\u001b[0m\u001b[0mexit_code\u001b[0m \u001b[0;32mis\u001b[0m \u001b[0mNone\u001b[0m\u001b[0;34m:\u001b[0m\u001b[0;34m\u001b[0m\u001b[0m\n\u001b[1;32m   1600\u001b[0m                 \u001b[0mself\u001b[0m\u001b[0;34m.\u001b[0m\u001b[0mlog\u001b[0m\u001b[0;34m.\u001b[0m\u001b[0mdebug\u001b[0m\u001b[0;34m(\u001b[0m\u001b[0;34m\"exit code not set, waiting on pid\"\u001b[0m\u001b[0;34m)\u001b[0m\u001b[0;34m\u001b[0m\u001b[0m\n\u001b[0;32m-> 1601\u001b[0;31m                 \u001b[0mpid\u001b[0m\u001b[0;34m,\u001b[0m \u001b[0mexit_code\u001b[0m \u001b[0;34m=\u001b[0m \u001b[0mos\u001b[0m\u001b[0;34m.\u001b[0m\u001b[0mwaitpid\u001b[0m\u001b[0;34m(\u001b[0m\u001b[0mself\u001b[0m\u001b[0;34m.\u001b[0m\u001b[0mpid\u001b[0m\u001b[0;34m,\u001b[0m \u001b[0;36m0\u001b[0m\u001b[0;34m)\u001b[0m \u001b[0;31m# blocks\u001b[0m\u001b[0;34m\u001b[0m\u001b[0m\n\u001b[0m\u001b[1;32m   1602\u001b[0m                 \u001b[0mself\u001b[0m\u001b[0;34m.\u001b[0m\u001b[0mexit_code\u001b[0m \u001b[0;34m=\u001b[0m \u001b[0mhandle_process_exit_code\u001b[0m\u001b[0;34m(\u001b[0m\u001b[0mexit_code\u001b[0m\u001b[0;34m)\u001b[0m\u001b[0;34m\u001b[0m\u001b[0m\n\u001b[1;32m   1603\u001b[0m             \u001b[0;32melse\u001b[0m\u001b[0;34m:\u001b[0m\u001b[0;34m\u001b[0m\u001b[0m\n",
      "\u001b[0;31mKeyboardInterrupt\u001b[0m: "
     ]
    }
   ],
   "source": [
    "import sh\n",
    "import re\n",
    "\n",
    "#sh.git.clone(\"https://github.com/apache/lucene-solr.git\")\n",
    "git = sh.git.bake(_cwd='lucene-solr')\n",
    "\n",
    "git.checkout(\"tags/lucene_solr_4_0_0_ALPHA\")\n",
    "\n",
    "\n",
    "files = filter(None,git(\"ls-files\").split(\"\\n\"))\n",
    "\n",
    "print len(files)\n",
    "\n",
    "#git shortlog -s -n\n",
    "#print sh.uniq(sh.sort(git.log(\"--format=format:%an\", \"README.txt\")), \"-c\")\n",
    "\n",
    "table = {}\n",
    "\n",
    "for f in files:\n",
    "    contributors_data = filter(None, sh.uniq(sh.sort(git.log(\"--format=format:%an\", f)), \"-c\").split(\"\\n\"))\n",
    "    contributors = []\n",
    "    total = 0\n",
    "    max_ownership = 0\n",
    "    minor = 0\n",
    "    major = 0\n",
    "    \n",
    "    for a in contributors_data:\n",
    "        num = int(re.search(\"[0-9]+\", a).group(0))\n",
    "        name = re.search(\"([A-z]+\\s*)+\", a).group(0)\n",
    "        total += num\n",
    "        max_ownership = num if num > max_ownership else max_ownership\n",
    "        contributors.append((name,num))\n",
    "    \n",
    "    for a in contributors:\n",
    "\n",
    "        if a[1] * 1.0 / total >= 0.05:\n",
    "            major += 1\n",
    "        else:\n",
    "            minor += 1\n",
    "    \n",
    "    table[f]= {\"minor\": minor, \"major\": major, \"total\": minor + major, \"ownership\": max_ownership / total * 100, \"bug_count\":0}\n",
    "    print total\n",
    "    print table[f]\n",
    "\n",
    "print table\n"
   ]
  },
  {
   "cell_type": "code",
   "execution_count": null,
   "metadata": {
    "collapsed": true
   },
   "outputs": [],
   "source": []
  }
 ],
 "metadata": {
  "kernelspec": {
   "display_name": "Python 2",
   "language": "python",
   "name": "python2"
  },
  "language_info": {
   "codemirror_mode": {
    "name": "ipython",
    "version": 2
   },
   "file_extension": ".py",
   "mimetype": "text/x-python",
   "name": "python",
   "nbconvert_exporter": "python",
   "pygments_lexer": "ipython2",
   "version": "2.7.10"
  }
 },
 "nbformat": 4,
 "nbformat_minor": 0
}
