{
 "cells": [
  {
   "cell_type": "markdown",
   "metadata": {},
   "source": [
    "# Lucena - Data Collection"
   ]
  },
  {
   "cell_type": "markdown",
   "metadata": {},
   "source": [
    "## Finding Realease with most bugs"
   ]
  },
  {
   "cell_type": "code",
   "execution_count": 20,
   "metadata": {
    "collapsed": false,
    "scrolled": false
   },
   "outputs": [],
   "source": [
    "import json\n",
    "from pprint import pprint\n",
    "from os import listdir\n",
    "from os.path import isfile, join\n",
    "import operator\n",
    "\n",
    "mypath = \"issue_LUCENE\"\n",
    "\n",
    "onlyfiles = [ f for f in listdir(mypath) if isfile(join(mypath,f)) and f.endswith(\".json\") ]\n",
    "version_count = {}\n",
    "\n",
    "for f in onlyfiles:\n",
    "    with open(join(mypath,f)) as data_file:   \n",
    "        data = json.load(data_file)\n",
    "        if (data[\"fields\"][\"issuetype\"][\"name\"] == \"Bug\" and \n",
    "            data[\"fields\"][\"status\"][\"name\"] == \"Closed\" and \n",
    "            data[\"fields\"][\"resolution\"][\"name\"] == \"Fixed\"):\n",
    "    \n",
    "            versions = data[\"fields\"][\"versions\"]\n",
    "            for v in versions:\n",
    "                if version_count.has_key(v[\"name\"]):\n",
    "                    version_count[v[\"name\"]].append(data[\"key\"])\n",
    "                else:\n",
    "                    version_count[v[\"name\"]] = [data[\"key\"]]\n",
    "        \n"
   ]
  },
  {
   "cell_type": "markdown",
   "metadata": {},
   "source": [
    "From the dictionary with the bugs associated to each release we extract the buggiest version and its bugs."
   ]
  },
  {
   "cell_type": "code",
   "execution_count": 35,
   "metadata": {
    "collapsed": false,
    "scrolled": true
   },
   "outputs": [
    {
     "name": "stdout",
     "output_type": "stream",
     "text": [
      "{u'LUCENE-4282': [], u'LUCENE-3476': [], u'LUCENE-4125': [], u'LUCENE-3575': [], u'LUCENE-2736': [], u'LUCENE-2737': [], u'LUCENE-2534': [], u'LUCENE-3672': [], u'LUCENE-2645': [], u'LUCENE-4114': [], u'LUCENE-2467': [], u'LUCENE-3324': [], u'LUCENE-3327': [], u'LUCENE-3329': [], u'LUCENE-3777': [], u'LUCENE-4119': [], u'LUCENE-4218': [], u'LUCENE-3768': [], u'LUCENE-3880': [], u'LUCENE-3561': [], u'LUCENE-2703': [], u'LUCENE-2705': [], u'LUCENE-3251': [], u'LUCENE-2936': [], u'LUCENE-3430': [], u'LUCENE-4209': [], u'LUCENE-4364': [], u'LUCENE-3600': [], u'LUCENE-4071': [], u'LUCENE-4070': [], u'LUCENE-3095': [], u'LUCENE-4075': [], u'LUCENE-4074': [], u'LUCENE-3090': [], u'LUCENE-3608': [], u'LUCENE-4162': [], u'LUCENE-3398': [], u'LUCENE-3800': [], u'LUCENE-2970': [], u'LUCENE-3452': [], u'LUCENE-2344': [], u'LUCENE-3743': [], u'LUCENE-3692': [], u'LUCENE-2717': [], u'LUCENE-2668': [], u'LUCENE-3062': [], u'LUCENE-3895': [], u'LUCENE-3590': [], u'LUCENE-2796': [], u'LUCENE-3068': [], u'LUCENE-3619': [], u'LUCENE-2945': [], u'LUCENE-4178': [], u'LUCENE-2497': [], u'LUCENE-3815': [], u'LUCENE-4080': [], u'LUCENE-3508': [], u'LUCENE-3870': [], u'LUCENE-3874': [], u'LUCENE-3276': [], u'LUCENE-3323': [], u'LUCENE-2696': [], u'LUCENE-3378': [], u'LUCENE-2569': [], u'LUCENE-2925': [], u'LUCENE-3375': [], u'LUCENE-3372': [], u'LUCENE-2693': [], u'LUCENE-2813': [], u'LUCENE-3741': [], u'LUCENE-2815': [], u'LUCENE-2112': [], u'LUCENE-3077': [], u'LUCENE-4266': [], u'LUCENE-4111': [], u'LUCENE-2617': [], u'LUCENE-3589': [], u'LUCENE-2299': [], u'LUCENE-4302': [], u'LUCENE-4147': [], u'LUCENE-4142': [], u'LUCENE-4149': [], u'LUCENE-3849': [], u'LUCENE-3708': [], u'LUCENE-3536': [], u'LUCENE-3958': [], u'LUCENE-2129': [], u'LUCENE-2681': [], u'LUCENE-2685': [], u'LUCENE-2477': [], u'LUCENE-2123': [], u'LUCENE-3623': [], u'LUCENE-3453': [], u'LUCENE-3737': [], u'LUCENE-4158': [], u'LUCENE-2802': [], u'LUCENE-3732': [], u'LUCENE-3042': [], u'LUCENE-3137': [], u'LUCENE-3822': [], u'LUCENE-2884': [], u'LUCENE-3526': [], u'LUCENE-4801': [], u'LUCENE-3860': [], u'LUCENE-3522': [], u'LUCENE-2762': [], u'LUCENE-3858': [], u'LUCENE-3528': [], u'LUCENE-3351': [], u'LUCENE-3059': [], u'LUCENE-3052': [], u'LUCENE-2653': [], u'LUCENE-3051': [], u'LUCENE-3409': [], u'LUCENE-3057': [], u'LUCENE-3724': [], u'LUCENE-2741': [], u'LUCENE-2740': [], u'LUCENE-4129': [], u'LUCENE-2504': [], u'LUCENE-4127': [], u'LUCENE-3487': [], u'LUCENE-3583': [], u'LUCENE-3647': [], u'LUCENE-2633': [], u'LUCENE-2875': [], u'LUCENE-4034': [], u'LUCENE-4037': [], u'LUCENE-3294': [], u'LUCENE-3295': [], u'LUCENE-4033': [], u'LUCENE-3418': [], u'LUCENE-2222': [], u'LUCENE-3555': [], u'LUCENE-2992': [], u'LUCENE-4090': [], u'LUCENE-3412': [], u'LUCENE-3981': [], u'LUCENE-3417': [], u'LUCENE-3941': [], u'LUCENE-3719': [], u'LUCENE-3551': [], u'LUCENE-3340': [], u'LUCENE-4116': [], u'LUCENE-2459': [], u'LUCENE-3026': [], u'LUCENE-3713': [], u'LUCENE-2512': [], u'LUCENE-4139': [], u'LUCENE-3814': [], u'LUCENE-4135': [], u'LUCENE-4137': [], u'LUCENE-4130': [], u'LUCENE-3656': [], u'LUCENE-4022': [], u'LUCENE-4128': [], u'LUCENE-4026': [], u'LUCENE-4234': [], u'LUCENE-3831': [], u'LUCENE-3463': [], u'LUCENE-3462': [], u'LUCENE-3542': [], u'LUCENE-3546': [], u'LUCENE-3709': [], u'LUCENE-3548': [], u'LUCENE-3705': [], u'LUCENE-4103': [], u'LUCENE-3337': [], u'LUCENE-2153': [], u'LUCENE-2529': [], u'LUCENE-4342': [], u'LUCENE-2658': [], u'LUCENE-4221': [], u'LUCENE-3903': [], u'LUCENE-3904': [], u'LUCENE-4333': [], u'LUCENE-3580': [], u'LUCENE-4185': [], u'LUCENE-4059': []}\n",
      "Version with most closed bugs: 4.0-ALPHA with 179 bugs.\n"
     ]
    }
   ],
   "source": [
    "max = 0\n",
    "buggy_version = \"\"\n",
    "\n",
    "for k,v in version_count.iteritems():\n",
    "    if len(v) > max:\n",
    "        max = len(v)\n",
    "        buggy_version = k\n",
    "        \n",
    "bugs = {}\n",
    "\n",
    "for b in version_count[buggy_version]:\n",
    "    bugs[b] = []\n",
    "\n",
    "print \"Version with most closed bugs:\", buggy_version , \"with\", len (version_count[buggy_version]), \"bugs.\""
   ]
  },
  {
   "cell_type": "markdown",
   "metadata": {},
   "source": [
    "For some reason shortlog was not working. #git shortlog -s -n"
   ]
  },
  {
   "cell_type": "code",
   "execution_count": 26,
   "metadata": {
    "collapsed": false,
    "scrolled": false
   },
   "outputs": [
    {
     "name": "stdout",
     "output_type": "stream",
     "text": [
      "Reading repository...\n",
      "{u'dev-tools/maven/lucene/facet/pom.xml.template': {'bug_count': 0, 'major': 2, 'total': 2, 'ownership': 0, 'minor': 0}, u'dev-tools/eclipse/dot.project': {'bug_count': 0, 'major': 1, 'total': 1, 'ownership': 100, 'minor': 0}, u'dev-tools/idea/lucene/analysis/stempel/stempel.iml': {'bug_count': 0, 'major': 1, 'total': 1, 'ownership': 100, 'minor': 0}, u'dev-tools/maven/lucene/join/pom.xml.template': {'bug_count': 0, 'major': 2, 'total': 2, 'ownership': 0, 'minor': 0}, u'dev-tools/maven/lucene/analysis/stempel/pom.xml.template': {'bug_count': 0, 'major': 2, 'total': 2, 'ownership': 0, 'minor': 0}, u'dev-tools/idea/.idea/libraries/ICU_library.xml': {'bug_count': 0, 'major': 2, 'total': 2, 'ownership': 0, 'minor': 0}, u'dev-tools/idea/.idea/libraries/Solr_DIH_library.xml': {'bug_count': 0, 'major': 1, 'total': 1, 'ownership': 100, 'minor': 0}, u'dev-tools/idea/.idea/projectCodeStyle.xml': {'bug_count': 0, 'major': 1, 'total': 1, 'ownership': 100, 'minor': 0}, u'dev-tools/idea/.idea/libraries/Solr_velocity_library.xml': {'bug_count': 0, 'major': 1, 'total': 1, 'ownership': 100, 'minor': 0}, u'dev-tools/maven/lucene/analysis/pom.xml.template': {'bug_count': 0, 'major': 1, 'total': 1, 'ownership': 100, 'minor': 0}, u'.gitignore': {'bug_count': 0, 'major': 2, 'total': 2, 'ownership': 0, 'minor': 0}, u'dev-tools/idea/solr/contrib/clustering/clustering.iml': {'bug_count': 0, 'major': 3, 'total': 3, 'ownership': 0, 'minor': 0}, u'dev-tools/idea/.idea/copyright/Apache_Software_Foundation.xml': {'bug_count': 0, 'major': 1, 'total': 1, 'ownership': 100, 'minor': 0}, u'dev-tools/maven/solr/contrib/pom.xml.template': {'bug_count': 0, 'major': 1, 'total': 1, 'ownership': 100, 'minor': 0}, u'dev-tools/idea/solr/contrib/extraction/extraction.iml': {'bug_count': 0, 'major': 1, 'total': 1, 'ownership': 100, 'minor': 0}, u'dev-tools/idea/solr/contrib/langid/langid.iml': {'bug_count': 0, 'major': 3, 'total': 3, 'ownership': 0, 'minor': 0}, u'dev-tools/idea/lucene/analysis/uima/analysis-uima.iml': {'bug_count': 0, 'major': 1, 'total': 1, 'ownership': 100, 'minor': 0}, u'dev-tools/idea/lucene/queries/queries.iml': {'bug_count': 0, 'major': 1, 'total': 1, 'ownership': 100, 'minor': 0}, u'dev-tools/maven/solr/contrib/clustering/pom.xml.template': {'bug_count': 0, 'major': 2, 'total': 2, 'ownership': 0, 'minor': 0}, u'dev-tools/idea/lucene/analysis/morfologik/morfologik.iml': {'bug_count': 0, 'major': 1, 'total': 1, 'ownership': 100, 'minor': 0}, u'dev-tools/idea/lucene/benchmark/benchmark.iml': {'bug_count': 0, 'major': 1, 'total': 1, 'ownership': 100, 'minor': 0}, u'dev-tools/maven/lucene/test-framework/pom.xml.template': {'bug_count': 0, 'major': 2, 'total': 2, 'ownership': 0, 'minor': 0}, u'dev-tools/maven/solr/contrib/uima/pom.xml.template': {'bug_count': 0, 'major': 3, 'total': 3, 'ownership': 0, 'minor': 0}, u'dev-tools/maven/solr/contrib/dataimporthandler/pom.xml.template': {'bug_count': 0, 'major': 1, 'total': 1, 'ownership': 100, 'minor': 0}, u'dev-tools/idea/.idea/libraries/Morfologik_library.xml': {'bug_count': 0, 'major': 2, 'total': 2, 'ownership': 0, 'minor': 0}, u'dev-tools/maven/lucene/sandbox/pom.xml.template': {'bug_count': 0, 'major': 2, 'total': 2, 'ownership': 0, 'minor': 0}, u'dev-tools/maven/solr/contrib/velocity/pom.xml.template': {'bug_count': 0, 'major': 1, 'total': 1, 'ownership': 100, 'minor': 0}, u'dev-tools/eclipse/dot.settings/org.eclipse.core.resources.prefs': {'bug_count': 0, 'major': 1, 'total': 1, 'ownership': 100, 'minor': 0}, u'.hgignore': {'bug_count': 0, 'major': 2, 'total': 2, 'ownership': 0, 'minor': 0}, u'dev-tools/maven/lucene/queryparser/pom.xml.template': {'bug_count': 0, 'major': 2, 'total': 2, 'ownership': 0, 'minor': 0}, u'dev-tools/idea/lucene/facet/facet.iml': {'bug_count': 0, 'major': 1, 'total': 1, 'ownership': 100, 'minor': 0}, u'dev-tools/idea/.idea/libraries/HSQLDB.xml': {'bug_count': 0, 'major': 1, 'total': 1, 'ownership': 100, 'minor': 0}, u'dev-tools/maven/lucene/highlighter/pom.xml.template': {'bug_count': 0, 'major': 2, 'total': 2, 'ownership': 0, 'minor': 0}, u'dev-tools/idea/solr/contrib/dataimporthandler-extras/dataimporthandler-extras.iml': {'bug_count': 0, 'major': 1, 'total': 1, 'ownership': 100, 'minor': 0}, u'dev-tools/idea/.idea/modules.xml': {'bug_count': 0, 'major': 3, 'total': 5, 'ownership': 0, 'minor': 2}, u'dev-tools/maven/solr/contrib/extraction/pom.xml.template': {'bug_count': 0, 'major': 2, 'total': 2, 'ownership': 0, 'minor': 0}, u'dev-tools/idea/lucene/grouping/grouping.iml': {'bug_count': 0, 'major': 1, 'total': 1, 'ownership': 100, 'minor': 0}, u'dev-tools/maven/lucene/analysis/kuromoji/pom.xml.template': {'bug_count': 0, 'major': 2, 'total': 2, 'ownership': 0, 'minor': 0}, u'dev-tools/idea/lucene/analysis/common/analysis-common.iml': {'bug_count': 0, 'major': 1, 'total': 1, 'ownership': 100, 'minor': 0}, u'dev-tools/idea/lucene/lucene.iml': {'bug_count': 0, 'major': 4, 'total': 4, 'ownership': 0, 'minor': 0}, u'dev-tools/eclipse/dot.classpath': {'bug_count': 0, 'major': 5, 'total': 17, 'ownership': 0, 'minor': 12}, u'dev-tools/maven/lucene/suggest/pom.xml.template': {'bug_count': 0, 'major': 2, 'total': 2, 'ownership': 0, 'minor': 0}, u'dev-tools/maven/lucene/spatial/pom.xml.template': {'bug_count': 0, 'major': 2, 'total': 2, 'ownership': 0, 'minor': 0}, u'dev-tools/maven/README.maven': {'bug_count': 0, 'major': 1, 'total': 1, 'ownership': 100, 'minor': 0}, u'dev-tools/maven/lucene/memory/pom.xml.template': {'bug_count': 0, 'major': 2, 'total': 2, 'ownership': 0, 'minor': 0}, u'dev-tools/idea/lucene/join/join.iml': {'bug_count': 0, 'major': 1, 'total': 1, 'ownership': 100, 'minor': 0}, u'dev-tools/idea/lucene/demo/demo.iml': {'bug_count': 0, 'major': 1, 'total': 1, 'ownership': 100, 'minor': 0}, u'dev-tools/idea/.idea/libraries/Ant.xml': {'bug_count': 0, 'major': 3, 'total': 3, 'ownership': 0, 'minor': 0}, u'dev-tools/idea/lucene/analysis/kuromoji/kuromoji.iml': {'bug_count': 0, 'major': 1, 'total': 1, 'ownership': 100, 'minor': 0}, u'dev-tools/README.txt': {'bug_count': 0, 'major': 1, 'total': 1, 'ownership': 100, 'minor': 0}, u'dev-tools/idea/lucene/spatial/spatial.iml': {'bug_count': 0, 'major': 1, 'total': 1, 'ownership': 100, 'minor': 0}, u'dev-tools/idea/solr/contrib/uima/uima.iml': {'bug_count': 0, 'major': 3, 'total': 3, 'ownership': 0, 'minor': 0}, u'dev-tools/eclipse/dot.settings/org.eclipse.jdt.ui.prefs': {'bug_count': 0, 'major': 2, 'total': 2, 'ownership': 0, 'minor': 0}, u'dev-tools/idea/lucene/analysis/smartcn/smartcn.iml': {'bug_count': 0, 'major': 1, 'total': 1, 'ownership': 100, 'minor': 0}, u'dev-tools/idea/.idea/copyright/profiles_settings.xml': {'bug_count': 0, 'major': 1, 'total': 1, 'ownership': 100, 'minor': 0}, u'dev-tools/idea/solr/contrib/dataimporthandler/dataimporthandler.iml': {'bug_count': 0, 'major': 2, 'total': 2, 'ownership': 0, 'minor': 0}, u'dev-tools/maven/lucene/analysis/morfologik/pom.xml.template': {'bug_count': 0, 'major': 2, 'total': 2, 'ownership': 0, 'minor': 0}, u'build.xml': {'bug_count': 0, 'major': 6, 'total': 10, 'ownership': 0, 'minor': 4}, u'dev-tools/idea/solr/contrib/velocity/velocity.iml': {'bug_count': 0, 'major': 2, 'total': 2, 'ownership': 0, 'minor': 0}, u'dev-tools/maven/lucene/analysis/uima/pom.xml.template': {'bug_count': 0, 'major': 2, 'total': 2, 'ownership': 0, 'minor': 0}, u'dev-tools/maven/lucene/analysis/icu/pom.xml.template': {'bug_count': 0, 'major': 2, 'total': 2, 'ownership': 0, 'minor': 0}, u'dev-tools/idea/.idea/libraries/Solr_library.xml': {'bug_count': 0, 'major': 1, 'total': 1, 'ownership': 100, 'minor': 0}, u'dev-tools/maven/solr/contrib/langid/pom.xml.template': {'bug_count': 0, 'major': 2, 'total': 2, 'ownership': 0, 'minor': 0}, u'dev-tools/maven/pom.xml.template': {'bug_count': 0, 'major': 4, 'total': 13, 'ownership': 0, 'minor': 9}, u'dev-tools/idea/.idea/libraries/JUnit.xml': {'bug_count': 0, 'major': 4, 'total': 4, 'ownership': 0, 'minor': 0}, u'dev-tools/eclipse/dot.settings/org.eclipse.jdt.core.prefs': {'bug_count': 0, 'major': 1, 'total': 1, 'ownership': 100, 'minor': 0}, u'dev-tools/idea/lucene/highlighter/highlighter.iml': {'bug_count': 0, 'major': 1, 'total': 1, 'ownership': 100, 'minor': 0}, u'dev-tools/maven/lucene/demo/pom.xml.template': {'bug_count': 0, 'major': 2, 'total': 2, 'ownership': 0, 'minor': 0}, u'dev-tools/idea/.idea/ant.xml': {'bug_count': 0, 'major': 2, 'total': 5, 'ownership': 0, 'minor': 3}, u'dev-tools/idea/.idea/libraries/Solr_extraction_library.xml': {'bug_count': 0, 'major': 1, 'total': 1, 'ownership': 100, 'minor': 0}, u'dev-tools/maven/lucene/analysis/smartcn/pom.xml.template': {'bug_count': 0, 'major': 2, 'total': 2, 'ownership': 0, 'minor': 0}, u'dev-tools/idea/lucene/queryparser/queryparser.iml': {'bug_count': 0, 'major': 1, 'total': 1, 'ownership': 100, 'minor': 0}, u'dev-tools/maven/lucene/grouping/pom.xml.template': {'bug_count': 0, 'major': 2, 'total': 2, 'ownership': 0, 'minor': 0}, u'dev-tools/maven/lucene/pom.xml.template': {'bug_count': 0, 'major': 3, 'total': 3, 'ownership': 0, 'minor': 0}, u'dev-tools/idea/lucene/suggest/suggest.iml': {'bug_count': 0, 'major': 1, 'total': 1, 'ownership': 100, 'minor': 0}, u'dev-tools/idea/.idea/libraries/Solr_example_library.xml': {'bug_count': 0, 'major': 1, 'total': 1, 'ownership': 100, 'minor': 0}, u'dev-tools/maven/solr/contrib/analysis-extras/pom.xml.template': {'bug_count': 0, 'major': 3, 'total': 3, 'ownership': 0, 'minor': 0}, u'dev-tools/idea/.idea/vcs.xml': {'bug_count': 0, 'major': 1, 'total': 1, 'ownership': 100, 'minor': 0}, u'dev-tools/idea/solr/solr.iml': {'bug_count': 0, 'major': 2, 'total': 4, 'ownership': 0, 'minor': 2}, u'dev-tools/idea/lucene/analysis/phonetic/phonetic.iml': {'bug_count': 0, 'major': 1, 'total': 1, 'ownership': 100, 'minor': 0}, u'dev-tools/idea/parent.iml': {'bug_count': 0, 'major': 1, 'total': 1, 'ownership': 100, 'minor': 0}, u'README.txt': {'bug_count': 0, 'major': 3, 'total': 3, 'ownership': 0, 'minor': 0}, u'dev-tools/idea/lucene/memory/memory.iml': {'bug_count': 0, 'major': 1, 'total': 1, 'ownership': 100, 'minor': 0}, u'dev-tools/maven/lucene/queries/pom.xml.template': {'bug_count': 0, 'major': 2, 'total': 2, 'ownership': 0, 'minor': 0}, u'dev-tools/maven/lucene/analysis/phonetic/pom.xml.template': {'bug_count': 0, 'major': 2, 'total': 2, 'ownership': 0, 'minor': 0}, u'dev-tools/maven/lucene/analysis/common/pom.xml.template': {'bug_count': 0, 'major': 2, 'total': 2, 'ownership': 0, 'minor': 0}, u'dev-tools/idea/.idea/workspace.xml': {'bug_count': 0, 'major': 2, 'total': 5, 'ownership': 0, 'minor': 3}, u'dev-tools/idea/lucene/analysis/icu/icu.iml': {'bug_count': 0, 'major': 1, 'total': 1, 'ownership': 100, 'minor': 0}, u'dev-tools/maven/solr/contrib/dataimporthandler-extras/pom.xml.template': {'bug_count': 0, 'major': 1, 'total': 1, 'ownership': 100, 'minor': 0}, u'dev-tools/idea/lucene/misc/misc.iml': {'bug_count': 0, 'major': 1, 'total': 1, 'ownership': 100, 'minor': 0}, u'dev-tools/maven/solr/core/pom.xml.template': {'bug_count': 0, 'major': 4, 'total': 7, 'ownership': 0, 'minor': 3}, u'dev-tools/idea/solr/contrib/analysis-extras/analysis-extras.iml': {'bug_count': 0, 'major': 2, 'total': 2, 'ownership': 0, 'minor': 0}, u'dev-tools/maven/lucene/core/pom.xml.template': {'bug_count': 0, 'major': 1, 'total': 1, 'ownership': 100, 'minor': 0}, u'dev-tools/idea/.idea/misc.xml': {'bug_count': 0, 'major': 1, 'total': 1, 'ownership': 100, 'minor': 0}, u'dev-tools/maven/lucene/benchmark/pom.xml.template': {'bug_count': 0, 'major': 2, 'total': 2, 'ownership': 0, 'minor': 0}, u'dev-tools/maven/lucene/misc/pom.xml.template': {'bug_count': 0, 'major': 2, 'total': 2, 'ownership': 0, 'minor': 0}, u'dev-tools/idea/.idea/compiler.xml': {'bug_count': 0, 'major': 2, 'total': 2, 'ownership': 0, 'minor': 0}, u'dev-tools/maven/solr/pom.xml.template': {'bug_count': 0, 'major': 1, 'total': 1, 'ownership': 100, 'minor': 0}, u'dev-tools/idea/lucene/sandbox/sandbox.iml': {'bug_count': 0, 'major': 1, 'total': 1, 'ownership': 100, 'minor': 0}}\n",
      "finish\n"
     ]
    }
   ],
   "source": [
    "import sh\n",
    "import re\n",
    "\n",
    "#sh.git.clone(\"https://github.com/apache/lucene-solr.git\")\n",
    "git = sh.git.bake(_cwd='lucene-solr')\n",
    "\n",
    "git.checkout(\"tags/lucene_solr_4_0_0_ALPHA\")\n",
    "\n",
    "\n",
    "files = filter(None,git(\"ls-files\").split(\"\\n\"))\n",
    "\n",
    "print \"Reading repository...\"\n",
    "\n",
    "#git shortlog -s -n\n",
    "#print sh.uniq(sh.sort(git.log(\"--format=format:%an\", \"README.txt\")), \"-c\")\n",
    "\n",
    "table = {}\n",
    "count = 0 #TODO remove\n",
    "\n",
    "for f in files:\n",
    "    contributors_data = filter(None, sh.uniq(sh.sort(git.log(\"--format=format:%an\", f)), \"-c\").split(\"\\n\"))\n",
    "    contributors = []\n",
    "    total = 0\n",
    "    max_ownership = 0\n",
    "    minor = 0\n",
    "    major = 0\n",
    "    \n",
    "    for a in contributors_data:\n",
    "        num = int(re.search(\"[0-9]+\", a).group(0))\n",
    "        name = re.search(\"([A-z]+\\s*)+\", a).group(0)\n",
    "        total += num\n",
    "        max_ownership = num if num > max_ownership else max_ownership\n",
    "        contributors.append((name,num))\n",
    "    \n",
    "    for a in contributors:\n",
    "\n",
    "        if a[1] * 1.0 / total >= 0.05:\n",
    "            major += 1\n",
    "        else:\n",
    "            minor += 1\n",
    "   \n",
    "    count += 1 #TODO delete\n",
    "    if count >= 100: #TODO delete\n",
    "        break #TODO delete\n",
    "        \n",
    "    table[f]= {\"minor\": minor, \"major\": major, \"total\": minor + major, \"ownership\": max_ownership / total * 100, \"bug_count\":0}\n",
    "    #print table[f]\n",
    "\n",
    "print table\n",
    "\n",
    "print \"finish\"\n"
   ]
  },
  {
   "cell_type": "markdown",
   "metadata": {
    "collapsed": true
   },
   "source": [
    "## Finding commits that fix bugs of the chosen release"
   ]
  },
  {
   "cell_type": "code",
   "execution_count": 65,
   "metadata": {
    "collapsed": false,
    "scrolled": true
   },
   "outputs": [
    {
     "name": "stdout",
     "output_type": "stream",
     "text": [
      "7bfa4fd6505e86c7481526bca7b157055a7b4ead\n",
      "\n",
      "10113\n",
      "\n",
      "LUCENE-3849\n",
      "LUCENE-3849\n",
      "LUCENE-4801\n",
      "LUCENE-4333\n",
      "LUCENE-4364\n",
      "LUCENE-4364\n",
      "LUCENE-4364\n",
      "LUCENE-4364\n",
      "LUCENE-4218\n",
      "LUCENE-4342\n",
      "LUCENE-4342\n",
      "LUCENE-4333\n",
      "LUCENE-4333\n",
      "LUCENE-4302\n",
      "LUCENE-4282\n",
      "LUCENE-4266\n",
      "LUCENE-4234\n",
      "LUCENE-4221\n",
      "LUCENE-4209\n",
      "LUCENE-4209\n",
      "LUCENE-4209\n",
      "LUCENE-4185\n",
      "LUCENE-4080\n",
      "LUCENE-4178\n",
      "LUCENE-4158\n",
      "LUCENE-4162\n",
      "LUCENE-4147\n",
      "LUCENE-4158\n",
      "LUCENE-4149\n",
      "LUCENE-4137\n",
      "LUCENE-4135\n",
      "LUCENE-4142\n",
      "LUCENE-4139\n",
      "LUCENE-4130\n",
      "LUCENE-4129\n",
      "LUCENE-4127\n",
      "LUCENE-4116\n",
      "LUCENE-4127\n",
      "LUCENE-4119\n",
      "LUCENE-4114\n",
      "LUCENE-4103\n",
      "LUCENE-4111\n",
      "LUCENE-4090\n",
      "Identified fixes for 43 out of 179.\n",
      "{u'LUCENE-4282': [u'lucene/CHANGES.txt', u'lucene/core/src/java/org/apache/lucene/search/FuzzyTermsEnum.java', u'lucene/core/src/test/org/apache/lucene/search/TestFuzzyQuery.java', u'lucene/sandbox/src/test/org/apache/lucene/sandbox/queries/TestSlowFuzzyQuery.java'], u'LUCENE-3476': [], u'LUCENE-4125': [], u'LUCENE-3575': [], u'LUCENE-2736': [], u'LUCENE-2737': [], u'LUCENE-2534': [], u'LUCENE-3672': [], u'LUCENE-2645': [], u'LUCENE-4114': [u'lucene/CHANGES.txt', u'lucene/core/src/java/org/apache/lucene/codecs/lucene40/values/FixedDerefBytesImpl.java', u'lucene/core/src/java/org/apache/lucene/codecs/lucene40/values/FixedStraightBytesImpl.java'], u'LUCENE-2467': [], u'LUCENE-3324': [], u'LUCENE-3327': [], u'LUCENE-3329': [], u'LUCENE-3777': [], u'LUCENE-4119': [u'lucene/core/src/java/org/apache/lucene/codecs/SegmentInfoFormat.java', u'lucene/core/src/java/org/apache/lucene/codecs/lucene40/Lucene40SegmentInfoFormat.java', u'lucene/core/src/java/org/apache/lucene/codecs/simpletext/SimpleTextSegmentInfoFormat.java', u'lucene/core/src/java/org/apache/lucene/index/IndexWriter.java', u'lucene/core/src/java/org/apache/lucene/index/SegmentInfos.java'], u'LUCENE-4218': [u'lucene/CHANGES.txt', u'lucene/core/src/java/org/apache/lucene/document/Field.java', u'lucene/core/src/test/org/apache/lucene/document/TestDocument.java'], u'LUCENE-3768': [], u'LUCENE-3880': [], u'LUCENE-3561': [], u'LUCENE-2703': [], u'LUCENE-2705': [], u'LUCENE-3251': [], u'LUCENE-2936': [], u'LUCENE-3430': [], u'LUCENE-4209': [u'lucene/CHANGES.txt', u'lucene/suggest/src/java/org/apache/lucene/search/suggest/SortedTermFreqIteratorWrapper.java', u'lucene/suggest/src/java/org/apache/lucene/search/suggest/fst/FSTCompletionLookup.java', u'lucene/suggest/src/test/org/apache/lucene/search/suggest/fst/BytesRefSortersTest.java', u'lucene/suggest/src/test/org/apache/lucene/search/suggest/fst/LargeInputFST.java'], u'LUCENE-4364': [u'lucene/CHANGES.txt', u'lucene/core/src/java/org/apache/lucene/store/ByteBufferIndexInput.java', u'lucene/core/src/java/org/apache/lucene/store/CompoundFileDirectory.java', u'lucene/core/src/java/org/apache/lucene/store/Directory.java', u'lucene/core/src/java/org/apache/lucene/store/MMapDirectory.java', u'lucene/core/src/java/org/apache/lucene/store/NIOFSDirectory.java', u'lucene/core/src/java/org/apache/lucene/store/SimpleFSDirectory.java', u'lucene/core/src/test/org/apache/lucene/store/TestMultiMMap.java', u'lucene/test-framework/src/java/org/apache/lucene/store/MockDirectoryWrapper.java', u'solr/core/src/java/org/apache/solr/core/MMapDirectoryFactory.java'], u'LUCENE-3600': [], u'LUCENE-4071': [], u'LUCENE-4070': [], u'LUCENE-3095': [], u'LUCENE-4075': [], u'LUCENE-4074': [], u'LUCENE-3090': [], u'LUCENE-3608': [], u'LUCENE-4162': [u'lucene/core/src/java/org/apache/lucene/util/MathUtil.java'], u'LUCENE-3398': [], u'LUCENE-3800': [], u'LUCENE-2970': [], u'LUCENE-3452': [], u'LUCENE-2344': [], u'LUCENE-3743': [], u'LUCENE-3692': [], u'LUCENE-2717': [], u'LUCENE-2668': [], u'LUCENE-3062': [], u'LUCENE-3895': [], u'LUCENE-3590': [], u'LUCENE-2796': [], u'LUCENE-3068': [], u'LUCENE-3619': [], u'LUCENE-2945': [], u'LUCENE-4178': [u'lucene/CHANGES.txt', u'lucene/core/src/java/org/apache/lucene/document/FieldType.java', u'lucene/core/src/java/org/apache/lucene/document/StringField.java', u'lucene/core/src/test/org/apache/lucene/document/TestDocument.java'], u'LUCENE-2497': [], u'LUCENE-3815': [], u'LUCENE-4080': [u'lucene/core/src/java/org/apache/lucene/codecs/DocValuesConsumer.java', u'lucene/core/src/java/org/apache/lucene/codecs/PerDocConsumer.java', u'lucene/core/src/java/org/apache/lucene/codecs/StoredFieldsWriter.java', u'lucene/core/src/java/org/apache/lucene/codecs/TermVectorsWriter.java', u'lucene/core/src/java/org/apache/lucene/codecs/lucene40/Lucene40StoredFieldsWriter.java', u'lucene/core/src/java/org/apache/lucene/codecs/lucene40/Lucene40TermVectorsWriter.java', u'lucene/core/src/java/org/apache/lucene/index/IndexWriter.java', u'lucene/core/src/java/org/apache/lucene/index/MergePolicy.java', u'lucene/core/src/java/org/apache/lucene/index/MergeState.java', u'lucene/core/src/java/org/apache/lucene/index/SegmentMerger.java'], u'LUCENE-3508': [], u'LUCENE-3870': [], u'LUCENE-3874': [], u'LUCENE-3276': [], u'LUCENE-3323': [], u'LUCENE-2696': [], u'LUCENE-3378': [], u'LUCENE-2569': [], u'LUCENE-2925': [], u'LUCENE-3375': [], u'LUCENE-3372': [], u'LUCENE-2693': [], u'LUCENE-2813': [], u'LUCENE-3741': [], u'LUCENE-2815': [], u'LUCENE-2112': [], u'LUCENE-3077': [], u'LUCENE-4266': [u'dev-tools/eclipse/dot.classpath'], u'LUCENE-4111': [u'lucene/analysis/common/src/test/org/apache/lucene/analysis/pattern/TestPatternReplaceCharFilter.java', u'lucene/test-framework/src/java/org/apache/lucene/util/_TestUtil.java'], u'LUCENE-2617': [], u'LUCENE-3589': [], u'LUCENE-2299': [], u'LUCENE-4302': [u'lucene/CHANGES.txt', u'lucene/facet/src/java/org/apache/lucene/facet/doc-files/userguide.html'], u'LUCENE-4147': [u'lucene/CHANGES.txt', u'lucene/core/src/java/org/apache/lucene/index/DocumentsWriter.java', u'lucene/core/src/java/org/apache/lucene/index/DocumentsWriterFlushControl.java', u'lucene/core/src/java/org/apache/lucene/index/DocumentsWriterPerThread.java', u'lucene/core/src/java/org/apache/lucene/index/IndexWriter.java', u'lucene/core/src/test/org/apache/lucene/index/TestIndexWriterWithThreads.java'], u'LUCENE-4142': [u'lucene/analysis/common/src/java/org/apache/lucene/analysis/fa/PersianAnalyzer.java', u'lucene/analysis/common/src/test/org/apache/lucene/analysis/charfilter/HTMLStripCharFilterTest.java', u'lucene/analysis/common/src/test/org/apache/lucene/analysis/charfilter/TestMappingCharFilter.java', u'lucene/analysis/common/src/test/org/apache/lucene/analysis/cjk/TestCJKAnalyzer.java', u'lucene/analysis/common/src/test/org/apache/lucene/analysis/compound/TestCompoundWordTokenFilter.java', u'lucene/analysis/common/src/test/org/apache/lucene/analysis/core/TestBugInSomething.java', u'lucene/analysis/common/src/test/org/apache/lucene/analysis/core/TestRandomChains.java', u'lucene/analysis/common/src/test/org/apache/lucene/analysis/miscellaneous/TestPerFieldAnalzyerWrapper.java', u'lucene/analysis/common/src/test/org/apache/lucene/analysis/pattern/TestPatternReplaceCharFilter.java', u'lucene/core/src/java/org/apache/lucene/analysis/Analyzer.java', u'lucene/core/src/java/org/apache/lucene/analysis/AnalyzerWrapper.java', u'lucene/core/src/test/org/apache/lucene/analysis/TestMockCharFilter.java', u'solr/core/src/java/org/apache/solr/analysis/SolrAnalyzer.java', u'solr/core/src/java/org/apache/solr/analysis/TokenizerChain.java', u'solr/core/src/java/org/apache/solr/handler/AnalysisRequestHandlerBase.java', u'solr/core/src/test/org/apache/solr/analysis/LegacyHTMLStripCharFilterTest.java'], u'LUCENE-4149': [u'lucene/core/src/java/org/apache/lucene/util/packed/Packed64SingleBlock.java', u'lucene/core/src/java/org/apache/lucene/util/packed/PackedInts.java', u'lucene/core/src/test/org/apache/lucene/util/packed/TestPackedInts.java'], u'LUCENE-3849': [u'lucene/CHANGES.txt', u'lucene/analysis/common/src/java/org/apache/lucene/analysis/core/KeywordTokenizer.java', u'lucene/analysis/common/src/java/org/apache/lucene/analysis/ngram/NGramTokenizer.java', u'lucene/analysis/common/src/java/org/apache/lucene/analysis/path/PathHierarchyTokenizer.java', u'lucene/analysis/common/src/java/org/apache/lucene/analysis/path/ReversePathHierarchyTokenizer.java', u'lucene/analysis/common/src/java/org/apache/lucene/analysis/pattern/PatternTokenizer.java', u'lucene/analysis/common/src/java/org/apache/lucene/analysis/standard/ClassicTokenizer.java', u'lucene/analysis/common/src/java/org/apache/lucene/analysis/standard/StandardTokenizer.java', u'lucene/analysis/common/src/java/org/apache/lucene/analysis/standard/UAX29URLEmailTokenizer.java', u'lucene/analysis/common/src/java/org/apache/lucene/analysis/util/CharTokenizer.java', u'lucene/analysis/common/src/java/org/apache/lucene/analysis/util/FilteringTokenFilter.java', u'lucene/analysis/common/src/java/org/apache/lucene/analysis/wikipedia/WikipediaTokenizer.java', u'lucene/analysis/common/src/test/org/apache/lucene/analysis/core/TestStopFilter.java', u'lucene/analysis/icu/src/java/org/apache/lucene/analysis/icu/segmentation/ICUTokenizer.java', u'lucene/analysis/kuromoji/src/java/org/apache/lucene/analysis/ja/JapaneseTokenizer.java', u'lucene/analysis/smartcn/src/java/org/apache/lucene/analysis/cn/smart/SentenceTokenizer.java', u'lucene/analysis/uima/src/java/org/apache/lucene/analysis/uima/BaseUIMATokenizer.java', u'lucene/analysis/uima/src/java/org/apache/lucene/analysis/uima/UIMAAnnotationsTokenizer.java', u'lucene/analysis/uima/src/java/org/apache/lucene/analysis/uima/UIMATypeAwareAnnotationsTokenizer.java', u'lucene/core/src/java/org/apache/lucene/analysis/TokenStream.java', u'lucene/core/src/java/org/apache/lucene/index/DocInverterPerField.java', u'lucene/core/src/test/org/apache/lucene/index/BinaryTokenStream.java', u'lucene/core/src/test/org/apache/lucene/index/TestIndexWriter.java', u'lucene/facet/src/java/org/apache/lucene/facet/taxonomy/directory/DirectoryTaxonomyWriter.java', u'lucene/highlighter/src/test/org/apache/lucene/search/vectorhighlight/AbstractTestCase.java', u'lucene/misc/src/test/org/apache/lucene/index/sorter/SorterTestBase.java', u'lucene/suggest/src/java/org/apache/lucene/search/suggest/analyzing/SuggestStopFilter.java', u'lucene/test-framework/src/java/org/apache/lucene/analysis/BaseTokenStreamTestCase.java', u'lucene/test-framework/src/java/org/apache/lucene/analysis/MockTokenFilter.java', u'lucene/test-framework/src/java/org/apache/lucene/analysis/MockTokenizer.java'], u'LUCENE-3708': [], u'LUCENE-3536': [], u'LUCENE-3958': [], u'LUCENE-2129': [], u'LUCENE-2681': [], u'LUCENE-2685': [], u'LUCENE-2477': [], u'LUCENE-2123': [], u'LUCENE-3623': [], u'LUCENE-3453': [], u'LUCENE-3737': [], u'LUCENE-4158': [u'lucene/core/src/java/org/apache/lucene/index/DocumentsWriterFlushControl.java', u'lucene/core/src/java/org/apache/lucene/index/DocumentsWriterStallControl.java', u'lucene/core/src/test/org/apache/lucene/index/TestDocumentsWriterStallControl.java', u'lucene/core/src/test/org/apache/lucene/index/TestFlushByRamOrCountsPolicy.java'], u'LUCENE-2802': [], u'LUCENE-3732': [], u'LUCENE-3042': [], u'LUCENE-3137': [], u'LUCENE-3822': [], u'LUCENE-2884': [], u'LUCENE-3526': [], u'LUCENE-4801': [u'lucene/misc/src/java/org/apache/lucene/misc/SweetSpotSimilarity.java'], u'LUCENE-3860': [], u'LUCENE-3522': [], u'LUCENE-2762': [], u'LUCENE-3858': [], u'LUCENE-3528': [], u'LUCENE-3351': [], u'LUCENE-3059': [], u'LUCENE-3052': [], u'LUCENE-2653': [], u'LUCENE-3051': [], u'LUCENE-3409': [], u'LUCENE-3057': [], u'LUCENE-3724': [], u'LUCENE-2741': [], u'LUCENE-2740': [], u'LUCENE-4129': [u'lucene/core/src/java/org/apache/lucene/codecs/lucene40/Lucene40PostingsFormat.java', u'lucene/core/src/java/org/apache/lucene/codecs/lucene40/Lucene40PostingsReader.java', u'lucene/core/src/java/org/apache/lucene/codecs/lucene40/Lucene40PostingsWriter.java', u'lucene/core/src/java/org/apache/lucene/codecs/pulsing/PulsingPostingsFormat.java', u'lucene/core/src/test/org/apache/lucene/codecs/lucene40/TestAllFilesHaveCodecHeader.java', u'lucene/core/src/test/org/apache/lucene/index/index.40.cfs.zip', u'lucene/core/src/test/org/apache/lucene/index/index.40.nocfs.zip', u'lucene/core/src/test/org/apache/lucene/index/index.40.optimized.cfs.zip', u'lucene/core/src/test/org/apache/lucene/index/index.40.optimized.nocfs.zip', u'lucene/test-framework/src/java/org/apache/lucene/codecs/nestedpulsing/NestedPulsingPostingsFormat.java'], u'LUCENE-2504': [], u'LUCENE-4127': [u'lucene/CHANGES.txt', u'lucene/core/src/java/org/apache/lucene/index/DocInverterPerField.java', u'lucene/core/src/test/org/apache/lucene/index/TestIndexWriter.java', u'lucene/core/src/test/org/apache/lucene/search/TestPositionIncrement.java', u'lucene/facet/src/java/org/apache/lucene/facet/taxonomy/directory/DirectoryTaxonomyWriter.java', u'lucene/test-framework/src/java/org/apache/lucene/analysis/MockPayloadAnalyzer.java'], u'LUCENE-3487': [], u'LUCENE-3583': [], u'LUCENE-3647': [], u'LUCENE-2633': [], u'LUCENE-2875': [], u'LUCENE-4034': [], u'LUCENE-4037': [], u'LUCENE-3294': [], u'LUCENE-3295': [], u'LUCENE-4033': [], u'LUCENE-3418': [], u'LUCENE-2222': [], u'LUCENE-3555': [], u'LUCENE-2992': [], u'LUCENE-4090': [u'lucene/core/src/java/org/apache/lucene/codecs/perfield/PerFieldPostingsFormat.java', u'lucene/core/src/test/org/apache/lucene/codecs/perfield/TestPerFieldPostingsFormat.java', u'lucene/core/src/test/org/apache/lucene/index/index.40.cfs.zip', u'lucene/core/src/test/org/apache/lucene/index/index.40.nocfs.zip', u'lucene/core/src/test/org/apache/lucene/index/index.40.optimized.cfs.zip', u'lucene/core/src/test/org/apache/lucene/index/index.40.optimized.nocfs.zip', u'lucene/test-framework/src/java/org/apache/lucene/index/RandomCodec.java'], u'LUCENE-3412': [], u'LUCENE-3981': [], u'LUCENE-3417': [], u'LUCENE-3941': [], u'LUCENE-3719': [], u'LUCENE-3551': [], u'LUCENE-3340': [], u'LUCENE-4116': [u'lucene/core/src/java/org/apache/lucene/index/DocumentsWriterStallControl.java', u'lucene/core/src/test/org/apache/lucene/index/TestDocumentsWriterStallControl.java'], u'LUCENE-2459': [], u'LUCENE-3026': [], u'LUCENE-3713': [], u'LUCENE-2512': [], u'LUCENE-4139': [u'lucene/core/src/java/org/apache/lucene/codecs/lucene40/Lucene40PostingsWriter.java', u'lucene/core/src/java/org/apache/lucene/index/FreqProxTermsWriterPerField.java', u'lucene/core/src/test/org/apache/lucene/index/TestPostingsOffsets.java', u'lucene/test-framework/src/java/org/apache/lucene/analysis/BaseTokenStreamTestCase.java'], u'LUCENE-3814': [], u'LUCENE-4135': [u'lucene/queryparser/src/test/org/apache/lucene/queryparser/flexible/standard/TestNumericQueryParser.java'], u'LUCENE-4137': [u'lucene/core/src/java/org/apache/lucene/index/BaseCompositeReader.java', u'lucene/core/src/test/org/apache/lucene/index/Test2BDocs.java'], u'LUCENE-4130': [u'lucene/core/src/java/org/apache/lucene/index/IndexFileNames.java', u'lucene/core/src/java/org/apache/lucene/store/CompoundFileDirectory.java', u'lucene/core/src/test/org/apache/lucene/codecs/lucene40/TestAllFilesHaveCodecHeader.java', u'lucene/core/src/test/org/apache/lucene/index/TestCompoundFile.java'], u'LUCENE-3656': [], u'LUCENE-4022': [], u'LUCENE-4128': [], u'LUCENE-4026': [], u'LUCENE-4234': [u'lucene/CHANGES.txt', u'lucene/facet/src/java/org/apache/lucene/facet/search/FacetsCollector.java', u'lucene/facet/src/java/org/apache/lucene/facet/search/ScoredDocIdCollector.java', u'lucene/facet/src/test/org/apache/lucene/facet/search/TestFacetsCollector.java'], u'LUCENE-3831': [], u'LUCENE-3463': [], u'LUCENE-3462': [], u'LUCENE-3542': [], u'LUCENE-3546': [], u'LUCENE-3709': [], u'LUCENE-3548': [], u'LUCENE-3705': [], u'LUCENE-4103': [u'lucene/CHANGES.txt', u'lucene/queryparser/src/java/org/apache/lucene/queryparser/flexible/standard/processors/AnalyzerQueryNodeProcessor.java', u'lucene/queryparser/src/test/org/apache/lucene/queryparser/flexible/standard/TestQPHelper.java'], u'LUCENE-3337': [], u'LUCENE-2153': [], u'LUCENE-2529': [], u'LUCENE-4342': [u'lucene/spatial/src/java/org/apache/lucene/spatial/prefix/tree/GeohashPrefixTree.java', u'lucene/spatial/src/java/org/apache/lucene/spatial/prefix/tree/QuadPrefixTree.java', u'lucene/spatial/src/java/org/apache/lucene/spatial/prefix/tree/SpatialPrefixTree.java', u'lucene/spatial/src/java/org/apache/lucene/spatial/query/SpatialArgs.java', u'lucene/spatial/src/test/org/apache/lucene/spatial/prefix/TestRecursivePrefixTreeStrategy.java'], u'LUCENE-2658': [], u'LUCENE-4221': [u'lucene/CHANGES.txt', u'lucene/core/src/java/org/apache/lucene/index/CheckIndex.java', u'lucene/core/src/test/org/apache/lucene/index/TestCheckIndex.java'], u'LUCENE-3903': [], u'LUCENE-3904': [], u'LUCENE-4333': [u'lucene/CHANGES.txt', u'lucene/grouping/src/java/org/apache/lucene/search/grouping/term/TermGroupFacetCollector.java', u'lucene/grouping/src/test/org/apache/lucene/search/grouping/GroupFacetCollectorTest.java'], u'LUCENE-3580': [], u'LUCENE-4185': [u'solr/CHANGES.txt', u'solr/core/src/java/org/apache/solr/analysis/TokenizerChain.java', u'solr/core/src/test-files/solr/collection1/conf/schema-charfilters.xml', u'solr/core/src/test/org/apache/solr/analysis/TestCharFilters.java', u'solr/test-framework/src/java/org/apache/solr/analysis/MockCharFilterFactory.java'], u'LUCENE-4059': []}\n"
     ]
    }
   ],
   "source": [
    "#git rev-list --topo-order HEAD..towards | tail -1\n",
    "#git rev-parse trunk\n",
    "last_commit_hash = git(\"rev-parse\", \"trunk\")\n",
    "print last_commit_hash\n",
    "\n",
    "commit_list = filter(None, git(\"rev-list\", \"--topo-order\", \"HEAD..\" + str(last_commit_hash).strip()).split(\"\\n\"))\n",
    "print len(commit_list)\n",
    "\n",
    "# git log --format=%B -n 1 7bfa4fd6505e86c7481526bca7b157055a7b4ead\n",
    "count = 0\n",
    "\n",
    "print \n",
    "\n",
    "for commit in commit_list:\n",
    "    message = str(git.log(\"--format=%B\", \"-n 1\", commit))\n",
    "    match = re.search(\"LUCENE-[0-9]+\", message)\n",
    "\n",
    "    if match:\n",
    "        key = match.group(0).strip()\n",
    "        \n",
    "        if key in bugs: \n",
    "            count += 1\n",
    "            print key\n",
    "            files_changed = filter(None, git(\"diff-tree\", \"--no-commit-id\", \"--name-only\", \"-r\", commit).split(\"\\n\"))\n",
    "            bugs[key] = files_changed\n",
    "   \n",
    "print \"Identified fixes for\", str(count), \"out of\", str(len(bugs)) + \".\"\n",
    "\n",
    "print bugs\n",
    "\n",
    "#print key, \"-->\", message\n"
   ]
  }
 ],
 "metadata": {
  "kernelspec": {
   "display_name": "Python 2",
   "language": "python",
   "name": "python2"
  },
  "language_info": {
   "codemirror_mode": {
    "name": "ipython",
    "version": 2
   },
   "file_extension": ".py",
   "mimetype": "text/x-python",
   "name": "python",
   "nbconvert_exporter": "python",
   "pygments_lexer": "ipython2",
   "version": "2.7.10"
  }
 },
 "nbformat": 4,
 "nbformat_minor": 0
}
